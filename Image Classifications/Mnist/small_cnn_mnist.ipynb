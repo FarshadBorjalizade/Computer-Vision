{
  "cells": [
    {
      "cell_type": "markdown",
      "metadata": {
        "id": "view-in-github",
        "colab_type": "text"
      },
      "source": [
        "<a href=\"https://colab.research.google.com/github/FarshadBorjalizade/ImagePprocessing-ComputerVision/blob/main/cnn_mnist.ipynb\" target=\"_parent\"><img src=\"https://colab.research.google.com/assets/colab-badge.svg\" alt=\"Open In Colab\"/></a>"
      ]
    },
    {
      "cell_type": "code",
      "execution_count": null,
      "metadata": {
        "colab": {
          "base_uri": "https://localhost:8080/"
        },
        "id": "P8ZM088dam6B",
        "outputId": "78e8672c-ff57-4013-f326-38527961cc9b"
      },
      "outputs": [
        {
          "name": "stdout",
          "output_type": "stream",
          "text": [
            "Mounted at /content/drive\n"
          ]
        }
      ],
      "source": [
        "from google.colab import drive\n",
        "drive.mount('/content/drive', force_remount=True )"
      ]
    },
    {
      "cell_type": "code",
      "execution_count": null,
      "metadata": {
        "id": "hIW_T_HHay2J"
      },
      "outputs": [],
      "source": [
        "import tensorflow as tf\n",
        "import numpy as np\n",
        "import pandas as pd\n",
        "import matplotlib.pyplot as plt\n",
        "from tensorflow.keras.utils import to_categorical\n",
        "import timeit"
      ]
    },
    {
      "cell_type": "code",
      "execution_count": null,
      "metadata": {
        "id": "txPU6Jw4aoI1"
      },
      "outputs": [],
      "source": [
        "(train_data, train_labels), (test_data, test_labels) = tf.keras.datasets.mnist.load_data()"
      ]
    },
    {
      "cell_type": "code",
      "execution_count": null,
      "metadata": {
        "colab": {
          "base_uri": "https://localhost:8080/"
        },
        "id": "_rbXdfJdaqje",
        "outputId": "cbe11b3b-1775-45ea-98c9-f83d2c49abac"
      },
      "outputs": [
        {
          "output_type": "execute_result",
          "data": {
            "text/plain": [
              "(60000, 28, 28)"
            ]
          },
          "metadata": {},
          "execution_count": 25
        }
      ],
      "source": [
        "## Shape, Dtype, Normalize, One-Hot\n",
        "train_data.shape"
      ]
    },
    {
      "cell_type": "code",
      "execution_count": null,
      "metadata": {
        "id": "Jdh35irQa0y3"
      },
      "outputs": [],
      "source": [
        "train_data = train_data.reshape((-1, 28, 28, 1)).astype(np.float32) / 255.\n",
        "test_data = test_data.reshape((-1, 28, 28, 1)).astype(np.float32) / 255.\n",
        "train_labels = to_categorical(train_labels, num_classes=10)\n",
        "test_labels = to_categorical(test_labels, num_classes=10)"
      ]
    },
    {
      "cell_type": "code",
      "execution_count": null,
      "metadata": {
        "id": "ckrAF5BDa3DZ"
      },
      "outputs": [],
      "source": [
        "from tensorflow.keras.layers import Input, Conv2D, MaxPooling2D, ReLU\n",
        "from tensorflow.keras.layers import Dense, Flatten, GlobalAveragePooling2D"
      ]
    },
    {
      "cell_type": "code",
      "execution_count": null,
      "metadata": {
        "colab": {
          "base_uri": "https://localhost:8080/"
        },
        "id": "ZJIb3hSIa52a",
        "outputId": "db2c0b6e-6be9-44bf-8c0e-a990ee379252"
      },
      "outputs": [
        {
          "output_type": "stream",
          "name": "stdout",
          "text": [
            "Model: \"model_12\"\n",
            "_________________________________________________________________\n",
            " Layer (type)                Output Shape              Param #   \n",
            "=================================================================\n",
            " Input layer (InputLayer)    [(None, 28, 28, 1)]       0         \n",
            "                                                                 \n",
            " Block1_Conv1 (Conv2D)       (None, 28, 28, 16)        416       \n",
            "                                                                 \n",
            " re_lu_36 (ReLU)             (None, 28, 28, 16)        0         \n",
            "                                                                 \n",
            " Block1_Max_pool_1 (MaxPooli  (None, 14, 14, 16)       0         \n",
            " ng2D)                                                           \n",
            "                                                                 \n",
            " conv2d_34 (Conv2D)          (None, 14, 14, 32)        4640      \n",
            "                                                                 \n",
            " re_lu_37 (ReLU)             (None, 14, 14, 32)        0         \n",
            "                                                                 \n",
            " max_pooling2d_36 (MaxPoolin  (None, 7, 7, 32)         0         \n",
            " g2D)                                                            \n",
            "                                                                 \n",
            " conv2d_35 (Conv2D)          (None, 7, 7, 64)          18496     \n",
            "                                                                 \n",
            " re_lu_38 (ReLU)             (None, 7, 7, 64)          0         \n",
            "                                                                 \n",
            " max_pooling2d_37 (MaxPoolin  (None, 4, 4, 64)         0         \n",
            " g2D)                                                            \n",
            "                                                                 \n",
            " flatten_12 (Flatten)        (None, 1024)              0         \n",
            "                                                                 \n",
            " dense_24 (Dense)            (None, 128)               131200    \n",
            "                                                                 \n",
            " dense_25 (Dense)            (None, 10)                1290      \n",
            "                                                                 \n",
            "=================================================================\n",
            "Total params: 156,042\n",
            "Trainable params: 156,042\n",
            "Non-trainable params: 0\n",
            "_________________________________________________________________\n",
            "Time = 0.026473530000203027\n"
          ]
        }
      ],
      "source": [
        "# Input\n",
        "i = Input((28, 28, 1), name='Input layer')\n",
        "\n",
        "# CNN\n",
        "x = Conv2D(filters=16 , kernel_size=(5, 5) , strides=1, padding='same', name='Block1_Conv1')(i)\n",
        "x = ReLU()(x)\n",
        "x = MaxPooling2D(pool_size=(2,2), strides=2, padding='same', name='Block1_Max_pool_1')(x)\n",
        "\n",
        "x = Conv2D(filters=32 , kernel_size=(3, 3), strides=1 , padding='same')(x)\n",
        "x = ReLU()(x)\n",
        "x = MaxPooling2D(pool_size=(2,2), strides=2, padding='same')(x)\n",
        "\n",
        "x = Conv2D(filters=64 , kernel_size=(3, 3), strides=1, padding='same')(x)\n",
        "x = ReLU()(x)\n",
        "x = MaxPooling2D(pool_size=(2,2), strides=2, padding='same')(x)\n",
        "\n",
        "# Classifier\n",
        "\n",
        "# option 1\n",
        "#x = GlobalAveragePooling2D()(x)\n",
        "\n",
        "# option 2\n",
        "x = Flatten()(x)\n",
        "c = Dense(units=128, activation='relu')(x)\n",
        "\n",
        "p = Dense(units=10, activation='softmax')(c)\n",
        "\n",
        "# Create model\n",
        "cnn_model = tf.keras.models.Model(i, p)\n",
        "cnn_model.summary()\n",
        "\n",
        "start_time = timeit.default_timer()\n",
        "cnn_model(np.random.rand(32, 28, 28, 1))\n",
        "end_tmime = timeit.default_timer()\n",
        "print('Time = {}'.format(end_tmime - start_time))"
      ]
    },
    {
      "cell_type": "code",
      "source": [
        "start_time = timeit.default_timer()\n",
        "cnn_model(np.random.rand(32, 28, 28, 1))\n",
        "end_tmime = timeit.default_timer()\n",
        "print('Time = {}'.format(end_tmime - start_time))"
      ],
      "metadata": {
        "colab": {
          "base_uri": "https://localhost:8080/"
        },
        "id": "2r4miHA0hfn0",
        "outputId": "128d7855-e262-48fd-aa71-e10395d56b5d"
      },
      "execution_count": null,
      "outputs": [
        {
          "output_type": "stream",
          "name": "stdout",
          "text": [
            "Time = 0.01331871099955606\n"
          ]
        }
      ]
    },
    {
      "cell_type": "code",
      "execution_count": null,
      "metadata": {
        "id": "HJ1FgHf5a7bV"
      },
      "outputs": [],
      "source": [
        "cnn_model.compile(optimizer='adam', loss='categorical_crossentropy', metrics=['categorical_accuracy'])"
      ]
    },
    {
      "cell_type": "code",
      "execution_count": null,
      "metadata": {
        "id": "UDtQmHcEa-CS"
      },
      "outputs": [],
      "source": [
        "save_best = tf.keras.callbacks.ModelCheckpoint('best_cnn_model.h5', save_best_only=True)"
      ]
    },
    {
      "cell_type": "code",
      "execution_count": null,
      "metadata": {
        "colab": {
          "background_save": true,
          "base_uri": "https://localhost:8080/"
        },
        "id": "9mBQCv-6a_Xm",
        "outputId": "089171d4-f3ca-4a3f-e22a-cc132fbcbc0c"
      },
      "outputs": [
        {
          "name": "stdout",
          "output_type": "stream",
          "text": [
            "Epoch 1/10\n",
            "1500/1500 [==============================] - 53s 34ms/step - loss: 0.1611 - categorical_accuracy: 0.9496 - val_loss: 0.0692 - val_categorical_accuracy: 0.9795\n",
            "Epoch 2/10\n",
            "1500/1500 [==============================] - 49s 33ms/step - loss: 0.0512 - categorical_accuracy: 0.9842 - val_loss: 0.0696 - val_categorical_accuracy: 0.9786\n",
            "Epoch 3/10\n",
            "1500/1500 [==============================] - 49s 33ms/step - loss: 0.0379 - categorical_accuracy: 0.9878 - val_loss: 0.0439 - val_categorical_accuracy: 0.9866\n",
            "Epoch 4/10\n",
            "1500/1500 [==============================] - 49s 33ms/step - loss: 0.0289 - categorical_accuracy: 0.9910 - val_loss: 0.0345 - val_categorical_accuracy: 0.9897\n",
            "Epoch 5/10\n",
            "1500/1500 [==============================] - 49s 33ms/step - loss: 0.0239 - categorical_accuracy: 0.9918 - val_loss: 0.0364 - val_categorical_accuracy: 0.9895\n",
            "Epoch 6/10\n",
            "1500/1500 [==============================] - 49s 33ms/step - loss: 0.0198 - categorical_accuracy: 0.9936 - val_loss: 0.0474 - val_categorical_accuracy: 0.9867\n",
            "Epoch 7/10\n",
            "1500/1500 [==============================] - 49s 33ms/step - loss: 0.0171 - categorical_accuracy: 0.9944 - val_loss: 0.0406 - val_categorical_accuracy: 0.9886\n",
            "Epoch 8/10\n",
            "1500/1500 [==============================] - 49s 33ms/step - loss: 0.0133 - categorical_accuracy: 0.9955 - val_loss: 0.0365 - val_categorical_accuracy: 0.9899\n",
            "Epoch 9/10\n",
            "1500/1500 [==============================] - 49s 33ms/step - loss: 0.0133 - categorical_accuracy: 0.9956 - val_loss: 0.0369 - val_categorical_accuracy: 0.9918\n",
            "Epoch 10/10\n",
            "1500/1500 [==============================] - 49s 33ms/step - loss: 0.0111 - categorical_accuracy: 0.9962 - val_loss: 0.0521 - val_categorical_accuracy: 0.9881\n"
          ]
        },
        {
          "data": {
            "text/plain": [
              "<keras.callbacks.History at 0x7f52faf4b610>"
            ]
          },
          "execution_count": null,
          "metadata": {},
          "output_type": "execute_result"
        }
      ],
      "source": [
        "cnn_model.fit(x=train_data, y=train_labels, epochs=10,\n",
        "             batch_size=32, validation_split=0.2, callbacks=[save_best])"
      ]
    },
    {
      "cell_type": "code",
      "execution_count": null,
      "metadata": {
        "id": "NRMSjLDsbBte"
      },
      "outputs": [],
      "source": [
        "best_model = tf.keras.models.load_model('/content/best_cnn_model.h5')"
      ]
    },
    {
      "cell_type": "code",
      "execution_count": null,
      "metadata": {
        "colab": {
          "base_uri": "https://localhost:8080/"
        },
        "id": "Wwc_ZQoebpV7",
        "outputId": "bb868a4a-57b9-48b0-ade3-51ff94088488"
      },
      "outputs": [
        {
          "name": "stdout",
          "output_type": "stream",
          "text": [
            "313/313 [==============================] - 2s 6ms/step - loss: 0.0307 - categorical_accuracy: 0.9903\n"
          ]
        },
        {
          "data": {
            "text/plain": [
              "[0.030704880133271217, 0.9902999997138977]"
            ]
          },
          "execution_count": 13,
          "metadata": {},
          "output_type": "execute_result"
        }
      ],
      "source": [
        "best_model.evaluate(test_data, test_labels)"
      ]
    },
    {
      "cell_type": "code",
      "execution_count": null,
      "metadata": {
        "id": "w2ZzjBAab-Wn"
      },
      "outputs": [],
      "source": [
        ""
      ]
    }
  ],
  "metadata": {
    "accelerator": "GPU",
    "colab": {
      "name": "cnn_mnist.ipynb",
      "provenance": [],
      "authorship_tag": "ABX9TyNYnxxPi9I3MRQy3X0wZX9a",
      "include_colab_link": true
    },
    "kernelspec": {
      "display_name": "Python 3",
      "name": "python3"
    },
    "language_info": {
      "name": "python"
    }
  },
  "nbformat": 4,
  "nbformat_minor": 0
}
