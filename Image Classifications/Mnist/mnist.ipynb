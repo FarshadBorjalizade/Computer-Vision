{
  "cells": [
    {
      "cell_type": "markdown",
      "metadata": {
        "id": "view-in-github",
        "colab_type": "text"
      },
      "source": [
        "<a href=\"https://colab.research.google.com/github/FarshadBorjalizade/ImagePprocessing-ComputerVision/blob/main/mnist.ipynb\" target=\"_parent\"><img src=\"https://colab.research.google.com/assets/colab-badge.svg\" alt=\"Open In Colab\"/></a>"
      ]
    },
    {
      "cell_type": "markdown",
      "metadata": {
        "id": "PwiYrHv-0bLu"
      },
      "source": [
        "# Import what we need"
      ]
    },
    {
      "cell_type": "code",
      "execution_count": null,
      "metadata": {
        "id": "ziocFVLq0bL0"
      },
      "outputs": [],
      "source": [
        "import tensorflow as tf\n",
        "import numpy as np\n",
        "import pandas as pd\n",
        "import matplotlib.pyplot as plt\n",
        "%matplotlib inline"
      ]
    },
    {
      "cell_type": "markdown",
      "metadata": {
        "id": "ruvlhugc0bL2"
      },
      "source": [
        "# Load MNIST Dataset"
      ]
    },
    {
      "cell_type": "code",
      "execution_count": null,
      "metadata": {
        "id": "0Sifk_Zt0bL3"
      },
      "outputs": [],
      "source": [
        "(train_data, train_labels), (test_data, test_labels) = tf.keras.datasets.mnist.load_data()"
      ]
    },
    {
      "cell_type": "code",
      "execution_count": null,
      "metadata": {
        "id": "I5EaXl4f0bL3"
      },
      "outputs": [],
      "source": [
        "(train_data, train_labels), (test_data, test_labels) = tf.keras.datasets.minst.load_data()"
      ]
    },
    {
      "cell_type": "markdown",
      "metadata": {
        "id": "3lAhQ8KV0bL4"
      },
      "source": [
        "### check shapes and types"
      ]
    },
    {
      "cell_type": "code",
      "execution_count": null,
      "metadata": {
        "id": "WuodwXws0bL4",
        "outputId": "e9071c74-b3b5-4933-8b38-7faa4be007d8"
      },
      "outputs": [
        {
          "data": {
            "text/plain": [
              "(numpy.ndarray, dtype('uint8'), (60000, 28, 28))"
            ]
          },
          "execution_count": 3,
          "metadata": {},
          "output_type": "execute_result"
        }
      ],
      "source": [
        "type(train_data), train_data.dtype, train_data.shape"
      ]
    },
    {
      "cell_type": "code",
      "execution_count": null,
      "metadata": {
        "id": "pbO_3IS_0bL6",
        "outputId": "213794fb-7ec6-4d23-8132-dcaf8d61628c"
      },
      "outputs": [
        {
          "data": {
            "text/plain": [
              "(numpy.ndarray, dtype('uint8'), (60000,))"
            ]
          },
          "execution_count": 4,
          "metadata": {},
          "output_type": "execute_result"
        }
      ],
      "source": [
        "type(train_labels), train_labels.dtype, train_labels.shape"
      ]
    },
    {
      "cell_type": "markdown",
      "metadata": {
        "id": "h48VWLIC0bL6"
      },
      "source": [
        "### check shapes and types of test data"
      ]
    },
    {
      "cell_type": "code",
      "execution_count": null,
      "metadata": {
        "id": "ldNnAhDD0bL7",
        "outputId": "6a3bb78f-fb89-4dd2-98ba-ea2b2231600c"
      },
      "outputs": [
        {
          "data": {
            "text/plain": [
              "(numpy.ndarray, dtype('uint8'), (10000, 28, 28))"
            ]
          },
          "execution_count": 5,
          "metadata": {},
          "output_type": "execute_result"
        }
      ],
      "source": [
        "type(test_data), test_data.dtype, test_data.shape"
      ]
    },
    {
      "cell_type": "code",
      "execution_count": null,
      "metadata": {
        "id": "5DrDb_ln0bL8",
        "outputId": "703e69a4-378f-4130-b243-aa6ecf70f4e1"
      },
      "outputs": [
        {
          "data": {
            "text/plain": [
              "(numpy.ndarray, dtype('uint8'), (10000,))"
            ]
          },
          "execution_count": 6,
          "metadata": {},
          "output_type": "execute_result"
        }
      ],
      "source": [
        "type(test_labels), test_labels.dtype, test_labels.shape"
      ]
    },
    {
      "cell_type": "markdown",
      "metadata": {
        "id": "b-B2ecE00bL8"
      },
      "source": [
        "### now lets plot some images"
      ]
    },
    {
      "cell_type": "code",
      "execution_count": null,
      "metadata": {
        "id": "nwKsGkcP0bL9",
        "outputId": "a1e66db5-cbbf-4245-afe4-dd8d1525d519"
      },
      "outputs": [
        {
          "data": {
            "text/plain": [
              "0"
            ]
          },
          "execution_count": 7,
          "metadata": {},
          "output_type": "execute_result"
        }
      ],
      "source": [
        "train_labels[1]"
      ]
    },
    {
      "cell_type": "code",
      "execution_count": null,
      "metadata": {
        "scrolled": true,
        "id": "8i9QX7WK0bL9",
        "outputId": "da6bfb52-0676-4c09-8ee6-023ac99ddace"
      },
      "outputs": [
        {
          "data": {
            "text/plain": [
              "<matplotlib.image.AxesImage at 0x23aa6ab5848>"
            ]
          },
          "execution_count": 8,
          "metadata": {},
          "output_type": "execute_result"
        },
        {
          "data": {
            "image/png": "[encoded data removed]",
            "text/plain": [
              "<Figure size 432x288 with 1 Axes>"
            ]
          },
          "metadata": {
            "needs_background": "light"
          },
          "output_type": "display_data"
        }
      ],
      "source": [
        "plt.imshow(train_data[1])"
      ]
    },
    {
      "cell_type": "code",
      "execution_count": null,
      "metadata": {
        "id": "zomKXqHC0bL-",
        "outputId": "193c70e5-238a-4c32-9f6d-618d60dabe9a"
      },
      "outputs": [
        {
          "data": {
            "text/plain": [
              "5"
            ]
          },
          "execution_count": 9,
          "metadata": {},
          "output_type": "execute_result"
        }
      ],
      "source": [
        "train_labels[0]"
      ]
    },
    {
      "cell_type": "code",
      "execution_count": null,
      "metadata": {
        "id": "GjokxDEP0bL-",
        "outputId": "a84b3f55-e8d3-4a48-e7f2-38fab8de13c1"
      },
      "outputs": [
        {
          "data": {
            "text/plain": [
              "<matplotlib.image.AxesImage at 0x23aaa2b7088>"
            ]
          },
          "execution_count": 10,
          "metadata": {},
          "output_type": "execute_result"
        },
        {
          "data": {
            "image/png": "[encoded data removed]",
            "text/plain": [
              "<Figure size 432x288 with 1 Axes>"
            ]
          },
          "metadata": {
            "needs_background": "light"
          },
          "output_type": "display_data"
        }
      ],
      "source": [
        "plt.imshow(train_data[0])"
      ]
    },
    {
      "cell_type": "markdown",
      "metadata": {
        "id": "7w1CIKxQ0bL-"
      },
      "source": [
        "# Reshape train and test data"
      ]
    },
    {
      "cell_type": "code",
      "execution_count": null,
      "metadata": {
        "id": "fiVu7zlX0bL_",
        "outputId": "ba515f19-104c-418f-bc9f-b4dc8427fb54"
      },
      "outputs": [
        {
          "data": {
            "text/plain": [
              "((60000, 784), dtype('uint8'))"
            ]
          },
          "execution_count": 11,
          "metadata": {},
          "output_type": "execute_result"
        }
      ],
      "source": [
        "train_data = np.reshape(train_data, newshape=(-1, 28 * 28))\n",
        "train_data.shape, train_data.dtype"
      ]
    },
    {
      "cell_type": "code",
      "execution_count": null,
      "metadata": {
        "id": "mOc6v4390bL_",
        "outputId": "829e816d-cd70-4f90-ca3f-41d96a72c9be"
      },
      "outputs": [
        {
          "data": {
            "text/plain": [
              "((10000, 784), dtype('uint8'))"
            ]
          },
          "execution_count": 12,
          "metadata": {},
          "output_type": "execute_result"
        }
      ],
      "source": [
        "test_data = np.reshape(test_data, newshape=(-1, 28 * 28))\n",
        "test_data.shape, test_data.dtype"
      ]
    },
    {
      "cell_type": "markdown",
      "metadata": {
        "id": "sIwuNkl70bMA"
      },
      "source": [
        "# Convert labels to one-hot encoding\n",
        "### essential for classification - use to_categorical"
      ]
    },
    {
      "cell_type": "code",
      "execution_count": null,
      "metadata": {
        "id": "sPk6wr3h0bMA"
      },
      "outputs": [],
      "source": [
        "from tensorflow.keras.utils import to_categorical"
      ]
    },
    {
      "cell_type": "code",
      "execution_count": null,
      "metadata": {
        "id": "qTWdDJGq0bMB",
        "outputId": "54064856-1d0e-4043-b8a8-328c9a852309"
      },
      "outputs": [
        {
          "data": {
            "text/plain": [
              "((60000, 10), dtype('float32'))"
            ]
          },
          "execution_count": 14,
          "metadata": {},
          "output_type": "execute_result"
        }
      ],
      "source": [
        "train_labels = to_categorical(train_labels, num_classes=10)\n",
        "train_labels.shape, train_labels.dtype"
      ]
    },
    {
      "cell_type": "markdown",
      "metadata": {
        "id": "6PKSc5z50bMB"
      },
      "source": [
        "### now see new one-hot labels"
      ]
    },
    {
      "cell_type": "code",
      "execution_count": null,
      "metadata": {
        "id": "8LqUkKMp0bMC",
        "outputId": "7755df3c-b327-4848-fa00-e66deab39a43"
      },
      "outputs": [
        {
          "data": {
            "text/plain": [
              "array([0., 0., 0., 0., 0., 1., 0., 0., 0., 0.], dtype=float32)"
            ]
          },
          "execution_count": 15,
          "metadata": {},
          "output_type": "execute_result"
        }
      ],
      "source": [
        "train_labels[0]"
      ]
    },
    {
      "cell_type": "code",
      "execution_count": null,
      "metadata": {
        "id": "ZRufcV8X0bMC",
        "outputId": "a76fd86d-b1ea-4878-d8ec-c0180033ac2a"
      },
      "outputs": [
        {
          "data": {
            "text/plain": [
              "((10000, 10), dtype('float32'))"
            ]
          },
          "execution_count": 16,
          "metadata": {},
          "output_type": "execute_result"
        }
      ],
      "source": [
        "test_labels = to_categorical(test_labels, num_classes=10)\n",
        "test_labels.shape, train_labels.dtype"
      ]
    },
    {
      "cell_type": "markdown",
      "metadata": {
        "id": "lutkToQ20bMD"
      },
      "source": [
        "# Normalize the data\n",
        "### between 0 and 1 and float32 dtype"
      ]
    },
    {
      "cell_type": "code",
      "execution_count": null,
      "metadata": {
        "id": "dYkuIDQx0bMD",
        "outputId": "37e589e6-07ee-40f8-fc57-07f93224708c"
      },
      "outputs": [
        {
          "data": {
            "text/plain": [
              "((60000, 784), dtype('float32'))"
            ]
          },
          "execution_count": 17,
          "metadata": {},
          "output_type": "execute_result"
        }
      ],
      "source": [
        "train_data = train_data.astype('float32') / 255.0\n",
        "train_data.shape, train_data.dtype"
      ]
    },
    {
      "cell_type": "code",
      "execution_count": null,
      "metadata": {
        "id": "_zaXgbxZ0bMD",
        "outputId": "5ba15874-db1e-42dc-a186-66f6ff497008"
      },
      "outputs": [
        {
          "data": {
            "text/plain": [
              "((10000, 784), dtype('float32'))"
            ]
          },
          "execution_count": 18,
          "metadata": {},
          "output_type": "execute_result"
        }
      ],
      "source": [
        "test_data = test_data.astype('float32') / 255.0\n",
        "test_data.shape, test_data.dtype"
      ]
    },
    {
      "cell_type": "markdown",
      "metadata": {
        "id": "lXbJHHAe0bMD"
      },
      "source": [
        "### check mean, min, max of data"
      ]
    },
    {
      "cell_type": "code",
      "execution_count": null,
      "metadata": {
        "id": "ElDSDDYm0bME",
        "outputId": "18e00fee-cad5-4b6d-8694-8b31df419dc2"
      },
      "outputs": [
        {
          "data": {
            "text/plain": [
              "0.13066062"
            ]
          },
          "execution_count": 19,
          "metadata": {},
          "output_type": "execute_result"
        }
      ],
      "source": [
        "train_data.mean()"
      ]
    },
    {
      "cell_type": "code",
      "execution_count": null,
      "metadata": {
        "id": "sOr7y3mZ0bME",
        "outputId": "298e8d24-e1cd-43ae-dbc4-c21e6ad956ef"
      },
      "outputs": [
        {
          "data": {
            "text/plain": [
              "0.13251467"
            ]
          },
          "execution_count": 20,
          "metadata": {},
          "output_type": "execute_result"
        }
      ],
      "source": [
        "test_data.mean()"
      ]
    },
    {
      "cell_type": "markdown",
      "metadata": {
        "id": "HPDR6rqP0bME"
      },
      "source": [
        "## last final check of all shapes"
      ]
    },
    {
      "cell_type": "code",
      "execution_count": null,
      "metadata": {
        "id": "pfAs-v-00bME",
        "outputId": "9f32309e-2a58-441b-9b65-bb952c7ef6e4"
      },
      "outputs": [
        {
          "data": {
            "text/plain": [
              "((60000, 784), (60000, 10), (10000, 784), (10000, 10))"
            ]
          },
          "execution_count": 21,
          "metadata": {},
          "output_type": "execute_result"
        }
      ],
      "source": [
        "train_data.shape, train_labels.shape, test_data.shape, test_labels.shape"
      ]
    },
    {
      "cell_type": "markdown",
      "metadata": {
        "id": "qsvObiOc0bME"
      },
      "source": [
        "## Use some portion of data if you want"
      ]
    },
    {
      "cell_type": "code",
      "execution_count": null,
      "metadata": {
        "id": "FdvyMQzS0bMF",
        "outputId": "fa07f93a-d2e0-4a60-f240-7d785a4ce05e"
      },
      "outputs": [
        {
          "data": {
            "text/plain": [
              "((10000, 784), (10000, 10))"
            ]
          },
          "execution_count": 22,
          "metadata": {},
          "output_type": "execute_result"
        }
      ],
      "source": [
        "train_data = train_data[:10000]\n",
        "train_labels = train_labels[:10000]\n",
        "train_data.shape, train_labels.shape"
      ]
    },
    {
      "cell_type": "code",
      "execution_count": null,
      "metadata": {
        "id": "zNOjO1VN0bMF"
      },
      "outputs": [],
      "source": [
        "# converting the above numpy arrays to pandas dataframe\n",
        "df_train = pd.DataFrame(X_train)\n",
        "df_test = pd.DataFrame(X_test)"
      ]
    },
    {
      "cell_type": "code",
      "execution_count": null,
      "metadata": {
        "id": "flXVdJhL0bMF"
      },
      "outputs": [],
      "source": [
        ""
      ]
    },
    {
      "cell_type": "code",
      "execution_count": null,
      "metadata": {
        "id": "QO0X4OF10bMF"
      },
      "outputs": [],
      "source": [
        ""
      ]
    },
    {
      "cell_type": "code",
      "execution_count": null,
      "metadata": {
        "id": "Ru-ip26Z0bMG"
      },
      "outputs": [],
      "source": [
        ""
      ]
    },
    {
      "cell_type": "code",
      "execution_count": null,
      "metadata": {
        "id": "LHnyrFVN0bMG"
      },
      "outputs": [],
      "source": [
        ""
      ]
    },
    {
      "cell_type": "code",
      "execution_count": null,
      "metadata": {
        "id": "bGhYjAzL0bMG"
      },
      "outputs": [],
      "source": [
        ""
      ]
    },
    {
      "cell_type": "code",
      "execution_count": null,
      "metadata": {
        "id": "qGdtDoHl0bMG"
      },
      "outputs": [],
      "source": [
        ""
      ]
    },
    {
      "cell_type": "code",
      "execution_count": null,
      "metadata": {
        "id": "R3Bu1Raz0bMG"
      },
      "outputs": [],
      "source": [
        ""
      ]
    },
    {
      "cell_type": "code",
      "execution_count": null,
      "metadata": {
        "id": "LXOhAPrI0bMG"
      },
      "outputs": [],
      "source": [
        ""
      ]
    },
    {
      "cell_type": "code",
      "execution_count": null,
      "metadata": {
        "id": "MtClvviQ0bMG"
      },
      "outputs": [],
      "source": [
        ""
      ]
    },
    {
      "cell_type": "code",
      "execution_count": null,
      "metadata": {
        "id": "VLIlILE80bMG"
      },
      "outputs": [],
      "source": [
        ""
      ]
    },
    {
      "cell_type": "markdown",
      "metadata": {
        "id": "1bzJkvKC0bMH"
      },
      "source": [
        "# Create Our Classification Model"
      ]
    },
    {
      "cell_type": "markdown",
      "metadata": {
        "id": "HyyxEkjf0bMH"
      },
      "source": [
        "### Import layers and models"
      ]
    },
    {
      "cell_type": "code",
      "execution_count": null,
      "metadata": {
        "id": "9rFdv5Mi0bMH"
      },
      "outputs": [],
      "source": [
        "from tensorflow.keras.models import Model\n",
        "from tensorflow.keras.layers import Input, Dense"
      ]
    },
    {
      "cell_type": "markdown",
      "metadata": {
        "id": "Q5GVdsr20bMH"
      },
      "source": [
        "## Create the model"
      ]
    },
    {
      "cell_type": "code",
      "execution_count": null,
      "metadata": {
        "id": "X0Zw4Hzb0bMH"
      },
      "outputs": [],
      "source": [
        "input_layer = Input(shape=(784,))\n",
        "x = Dense(units=512, activation='relu')(input_layer)\n",
        "x = Dense(units=256, activation='relu')(x)\n",
        "x = Dense(units=128, activation='relu')(x)\n",
        "predictions = Dense(units=10, activation='softmax')(x)\n",
        "\n",
        "my_first_classifier_model = Model(inputs=input_layer, outputs=predictions)"
      ]
    },
    {
      "cell_type": "markdown",
      "metadata": {
        "id": "lJePJ8_o0bMI"
      },
      "source": [
        "### print summary of the model"
      ]
    },
    {
      "cell_type": "code",
      "execution_count": null,
      "metadata": {
        "id": "C5KCzBBa0bMI",
        "outputId": "ce8f0d84-52cc-41c2-f53a-e76b602f948e"
      },
      "outputs": [
        {
          "name": "stdout",
          "output_type": "stream",
          "text": [
            "Model: \"model_2\"\n",
            "_________________________________________________________________\n",
            "Layer (type)                 Output Shape              Param #   \n",
            "=================================================================\n",
            "input_3 (InputLayer)         [(None, 784)]             0         \n",
            "_________________________________________________________________\n",
            "dense_8 (Dense)              (None, 512)               401920    \n",
            "_________________________________________________________________\n",
            "dense_9 (Dense)              (None, 256)               131328    \n",
            "_________________________________________________________________\n",
            "dense_10 (Dense)             (None, 128)               32896     \n",
            "_________________________________________________________________\n",
            "dense_11 (Dense)             (None, 10)                1290      \n",
            "=================================================================\n",
            "Total params: 567,434\n",
            "Trainable params: 567,434\n",
            "Non-trainable params: 0\n",
            "_________________________________________________________________\n"
          ]
        }
      ],
      "source": [
        "my_first_classifier_model.summary()"
      ]
    },
    {
      "cell_type": "markdown",
      "metadata": {
        "id": "T_neZkOc0bMI"
      },
      "source": [
        "# Compile the model\n",
        "## With optimizer and loss function\n",
        "## This time we use another metric as well"
      ]
    },
    {
      "cell_type": "code",
      "execution_count": null,
      "metadata": {
        "id": "ldRv8p4m0bMI"
      },
      "outputs": [],
      "source": [
        "from tensorflow.keras.optimizers import SGD, Adam\n",
        "my_first_classifier_model.compile(optimizer=Adam(learning_rate=0.0001),\n",
        "                                  loss='categorical_crossentropy',\n",
        "                                  metrics=['accuracy'])"
      ]
    },
    {
      "cell_type": "markdown",
      "metadata": {
        "id": "XXNUOdmg0bMJ"
      },
      "source": [
        "## Now we can train the model"
      ]
    },
    {
      "cell_type": "code",
      "execution_count": null,
      "metadata": {
        "id": "GjAYjjHi0bMJ",
        "outputId": "bdcdc3e2-8794-4f01-c9dc-09c7503d919e"
      },
      "outputs": [
        {
          "name": "stdout",
          "output_type": "stream",
          "text": [
            "Train on 10000 samples, validate on 10000 samples\n",
            "Epoch 1/50\n",
            "10000/10000 [==============================] - 3s 285us/sample - loss: 0.8575 - accuracy: 0.7911 - val_loss: 0.3621 - val_accuracy: 0.9016\n",
            "Epoch 2/50\n",
            "10000/10000 [==============================] - 3s 250us/sample - loss: 0.2931 - accuracy: 0.9198 - val_loss: 0.2783 - val_accuracy: 0.9217\n",
            "Epoch 3/50\n",
            "10000/10000 [==============================] - 3s 252us/sample - loss: 0.2208 - accuracy: 0.9373 - val_loss: 0.2345 - val_accuracy: 0.9342\n",
            "Epoch 4/50\n",
            "10000/10000 [==============================] - 3s 271us/sample - loss: 0.1772 - accuracy: 0.9518 - val_loss: 0.2128 - val_accuracy: 0.9370\n",
            "Epoch 5/50\n",
            "10000/10000 [==============================] - 3s 262us/sample - loss: 0.1441 - accuracy: 0.9587 - val_loss: 0.2134 - val_accuracy: 0.9343\n",
            "Epoch 6/50\n",
            "10000/10000 [==============================] - 3s 253us/sample - loss: 0.1200 - accuracy: 0.9674 - val_loss: 0.1968 - val_accuracy: 0.9415\n",
            "Epoch 7/50\n",
            "10000/10000 [==============================] - 3s 251us/sample - loss: 0.0979 - accuracy: 0.9755 - val_loss: 0.1830 - val_accuracy: 0.9438\n",
            "Epoch 8/50\n",
            "10000/10000 [==============================] - 3s 250us/sample - loss: 0.0807 - accuracy: 0.9798 - val_loss: 0.1760 - val_accuracy: 0.9468\n",
            "Epoch 9/50\n",
            "10000/10000 [==============================] - 2s 246us/sample - loss: 0.0680 - accuracy: 0.9824 - val_loss: 0.1745 - val_accuracy: 0.9453\n",
            "Epoch 10/50\n",
            "10000/10000 [==============================] - 3s 264us/sample - loss: 0.0560 - accuracy: 0.9870 - val_loss: 0.1670 - val_accuracy: 0.9504\n",
            "Epoch 11/50\n",
            "10000/10000 [==============================] - 2s 248us/sample - loss: 0.0464 - accuracy: 0.9898 - val_loss: 0.1672 - val_accuracy: 0.9473\n",
            "Epoch 12/50\n",
            "10000/10000 [==============================] - 2s 245us/sample - loss: 0.0380 - accuracy: 0.9924 - val_loss: 0.1641 - val_accuracy: 0.9513\n",
            "Epoch 13/50\n",
            "10000/10000 [==============================] - 3s 255us/sample - loss: 0.0323 - accuracy: 0.9939 - val_loss: 0.1621 - val_accuracy: 0.9526\n",
            "Epoch 14/50\n",
            "10000/10000 [==============================] - 3s 258us/sample - loss: 0.0247 - accuracy: 0.9963 - val_loss: 0.1692 - val_accuracy: 0.9517\n",
            "Epoch 15/50\n",
            "10000/10000 [==============================] - 3s 272us/sample - loss: 0.0227 - accuracy: 0.9962 - val_loss: 0.1716 - val_accuracy: 0.9516\n",
            "Epoch 16/50\n",
            "10000/10000 [==============================] - 2s 248us/sample - loss: 0.0169 - accuracy: 0.9973 - val_loss: 0.1560 - val_accuracy: 0.9560\n",
            "Epoch 17/50\n",
            "10000/10000 [==============================] - 2s 248us/sample - loss: 0.0122 - accuracy: 0.9986 - val_loss: 0.1598 - val_accuracy: 0.9557\n",
            "Epoch 18/50\n",
            "10000/10000 [==============================] - 3s 258us/sample - loss: 0.0099 - accuracy: 0.9995 - val_loss: 0.1643 - val_accuracy: 0.9553\n",
            "Epoch 19/50\n",
            "10000/10000 [==============================] - 2s 246us/sample - loss: 0.0077 - accuracy: 0.9994 - val_loss: 0.1752 - val_accuracy: 0.9523\n",
            "Epoch 20/50\n",
            "10000/10000 [==============================] - 3s 263us/sample - loss: 0.0072 - accuracy: 0.9997 - val_loss: 0.1645 - val_accuracy: 0.9569\n",
            "Epoch 21/50\n",
            "10000/10000 [==============================] - 2s 246us/sample - loss: 0.0047 - accuracy: 1.0000 - val_loss: 0.1666 - val_accuracy: 0.9568\n",
            "Epoch 22/50\n",
            "10000/10000 [==============================] - 2s 245us/sample - loss: 0.0035 - accuracy: 1.0000 - val_loss: 0.1704 - val_accuracy: 0.9565\n",
            "Epoch 23/50\n",
            "10000/10000 [==============================] - 3s 274us/sample - loss: 0.0033 - accuracy: 0.9998 - val_loss: 0.1806 - val_accuracy: 0.9560\n",
            "Epoch 24/50\n",
            "10000/10000 [==============================] - 3s 256us/sample - loss: 0.0029 - accuracy: 1.0000 - val_loss: 0.1768 - val_accuracy: 0.9572\n",
            "Epoch 25/50\n",
            "10000/10000 [==============================] - 2s 250us/sample - loss: 0.0019 - accuracy: 1.0000 - val_loss: 0.1781 - val_accuracy: 0.9565\n",
            "Epoch 26/50\n",
            "10000/10000 [==============================] - 3s 285us/sample - loss: 0.0015 - accuracy: 1.0000 - val_loss: 0.1790 - val_accuracy: 0.9572\n",
            "Epoch 27/50\n",
            "10000/10000 [==============================] - 3s 261us/sample - loss: 0.0012 - accuracy: 1.0000 - val_loss: 0.1852 - val_accuracy: 0.9576\n",
            "Epoch 28/50\n",
            "10000/10000 [==============================] - 3s 280us/sample - loss: 0.0011 - accuracy: 1.0000 - val_loss: 0.1860 - val_accuracy: 0.9590\n",
            "Epoch 29/50\n",
            "10000/10000 [==============================] - 3s 258us/sample - loss: 8.6731e-04 - accuracy: 1.0000 - val_loss: 0.1904 - val_accuracy: 0.9579\n",
            "Epoch 30/50\n",
            "10000/10000 [==============================] - 3s 267us/sample - loss: 7.0063e-04 - accuracy: 1.0000 - val_loss: 0.1917 - val_accuracy: 0.9581\n",
            "Epoch 31/50\n",
            "10000/10000 [==============================] - 3s 302us/sample - loss: 5.5608e-04 - accuracy: 1.0000 - val_loss: 0.1983 - val_accuracy: 0.9577\n",
            "Epoch 32/50\n",
            "10000/10000 [==============================] - 2s 247us/sample - loss: 4.5573e-04 - accuracy: 1.0000 - val_loss: 0.1993 - val_accuracy: 0.9586\n",
            "Epoch 33/50\n",
            "10000/10000 [==============================] - 3s 250us/sample - loss: 3.8878e-04 - accuracy: 1.0000 - val_loss: 0.2017 - val_accuracy: 0.9586\n",
            "Epoch 34/50\n",
            "10000/10000 [==============================] - 3s 252us/sample - loss: 3.2097e-04 - accuracy: 1.0000 - val_loss: 0.2072 - val_accuracy: 0.9582\n",
            "Epoch 35/50\n",
            "10000/10000 [==============================] - 3s 280us/sample - loss: 2.6827e-04 - accuracy: 1.0000 - val_loss: 0.2109 - val_accuracy: 0.9577\n",
            "Epoch 36/50\n",
            "10000/10000 [==============================] - 3s 286us/sample - loss: 2.2844e-04 - accuracy: 1.0000 - val_loss: 0.2112 - val_accuracy: 0.9585\n",
            "Epoch 37/50\n",
            "10000/10000 [==============================] - 3s 257us/sample - loss: 1.7788e-04 - accuracy: 1.0000 - val_loss: 0.2164 - val_accuracy: 0.9584\n",
            "Epoch 38/50\n",
            "10000/10000 [==============================] - 2s 234us/sample - loss: 1.5628e-04 - accuracy: 1.0000 - val_loss: 0.2174 - val_accuracy: 0.9586\n",
            "Epoch 39/50\n",
            "10000/10000 [==============================] - 2s 244us/sample - loss: 1.3373e-04 - accuracy: 1.0000 - val_loss: 0.2239 - val_accuracy: 0.9584\n",
            "Epoch 40/50\n",
            "10000/10000 [==============================] - 2s 245us/sample - loss: 1.0473e-04 - accuracy: 1.0000 - val_loss: 0.2255 - val_accuracy: 0.9583\n",
            "Epoch 41/50\n",
            "10000/10000 [==============================] - 2s 248us/sample - loss: 8.5044e-05 - accuracy: 1.0000 - val_loss: 0.2286 - val_accuracy: 0.9588\n",
            "Epoch 42/50\n",
            "10000/10000 [==============================] - 2s 238us/sample - loss: 7.1445e-05 - accuracy: 1.0000 - val_loss: 0.2295 - val_accuracy: 0.9583\n",
            "Epoch 43/50\n",
            "10000/10000 [==============================] - 2s 238us/sample - loss: 6.1921e-05 - accuracy: 1.0000 - val_loss: 0.2329 - val_accuracy: 0.9596\n",
            "Epoch 44/50\n",
            "10000/10000 [==============================] - 3s 275us/sample - loss: 5.6696e-05 - accuracy: 1.0000 - val_loss: 0.2565 - val_accuracy: 0.9572\n",
            "Epoch 45/50\n",
            "10000/10000 [==============================] - 3s 269us/sample - loss: 0.0261 - accuracy: 0.9916 - val_loss: 0.2510 - val_accuracy: 0.9519\n",
            "Epoch 46/50\n",
            "10000/10000 [==============================] - 3s 274us/sample - loss: 0.0029 - accuracy: 0.9992 - val_loss: 0.2290 - val_accuracy: 0.9561\n",
            "Epoch 47/50\n",
            "10000/10000 [==============================] - 3s 265us/sample - loss: 5.7846e-04 - accuracy: 1.0000 - val_loss: 0.2171 - val_accuracy: 0.9591\n",
            "Epoch 48/50\n",
            "10000/10000 [==============================] - 2s 248us/sample - loss: 2.2281e-04 - accuracy: 1.0000 - val_loss: 0.2176 - val_accuracy: 0.9599\n",
            "Epoch 49/50\n",
            "10000/10000 [==============================] - 2s 249us/sample - loss: 1.8977e-04 - accuracy: 1.0000 - val_loss: 0.2174 - val_accuracy: 0.9599\n",
            "Epoch 50/50\n",
            "10000/10000 [==============================] - 3s 259us/sample - loss: 1.6519e-04 - accuracy: 1.0000 - val_loss: 0.2184 - val_accuracy: 0.9595\n"
          ]
        },
        {
          "data": {
            "text/plain": [
              "<tensorflow.python.keras.callbacks.History at 0x23aada3ad08>"
            ]
          },
          "execution_count": 39,
          "metadata": {},
          "output_type": "execute_result"
        }
      ],
      "source": [
        "my_first_classifier_model.fit(x=train_data, y=train_labels,\n",
        "                              batch_size=32, epochs=50, shuffle=True,\n",
        "                              validation_data=(test_data, test_labels))\n"
      ]
    },
    {
      "cell_type": "markdown",
      "metadata": {
        "id": "4axuTlST0bMK"
      },
      "source": [
        "### plot model loss history"
      ]
    },
    {
      "cell_type": "code",
      "execution_count": null,
      "metadata": {
        "id": "GE61xSWF0bMK"
      },
      "outputs": [],
      "source": [
        "model_loss_history = pd.DataFrame({'loss': my_first_classifier_model.history.history['loss'],\n",
        "                             'val_loss': my_first_classifier_model.history.history['val_loss']})"
      ]
    },
    {
      "cell_type": "code",
      "execution_count": null,
      "metadata": {
        "id": "JGcNv3Ou0bMK",
        "outputId": "69eb5181-daba-459b-947c-54a9568a0abd"
      },
      "outputs": [
        {
          "data": {
            "text/plain": [
              "<AxesSubplot:>"
            ]
          },
          "execution_count": 41,
          "metadata": {},
          "output_type": "execute_result"
        },
        {
          "data": {
            "image/png": "[encoded data removed]",
            "text/plain": [
              "<Figure size 432x288 with 1 Axes>"
            ]
          },
          "metadata": {
            "needs_background": "light"
          },
          "output_type": "display_data"
        }
      ],
      "source": [
        "model_loss_history.plot()"
      ]
    },
    {
      "cell_type": "markdown",
      "metadata": {
        "id": "kvx7LhjA0bML"
      },
      "source": [
        "### min of validation loss"
      ]
    },
    {
      "cell_type": "code",
      "execution_count": null,
      "metadata": {
        "scrolled": true,
        "id": "A3enrGTK0bML",
        "outputId": "e2e6b015-0481-4acc-a633-f22920f8482f"
      },
      "outputs": [
        {
          "data": {
            "text/plain": [
              "0.15596061082412488"
            ]
          },
          "execution_count": 42,
          "metadata": {},
          "output_type": "execute_result"
        }
      ],
      "source": [
        "model_loss_history['val_loss'].min()"
      ]
    },
    {
      "cell_type": "markdown",
      "metadata": {
        "id": "JHVTtlqG0bML"
      },
      "source": [
        "### plot model accuracy history"
      ]
    },
    {
      "cell_type": "code",
      "execution_count": null,
      "metadata": {
        "id": "qr5A66gk0bMM"
      },
      "outputs": [],
      "source": [
        "model_accuracy_history = pd.DataFrame({'accuracy': my_first_classifier_model.history.history['accuracy'],\n",
        "                                       'val_accuracy': my_first_classifier_model.history.history['val_accuracy']})"
      ]
    },
    {
      "cell_type": "code",
      "execution_count": null,
      "metadata": {
        "id": "KfSw3mp30bMM",
        "outputId": "c41339a7-1089-45db-cfdc-7eb5463c096e"
      },
      "outputs": [
        {
          "data": {
            "text/plain": [
              "<AxesSubplot:>"
            ]
          },
          "execution_count": 44,
          "metadata": {},
          "output_type": "execute_result"
        },
        {
          "data": {
            "image/png": "[encoded data removed]",
            "text/plain": [
              "<Figure size 432x288 with 1 Axes>"
            ]
          },
          "metadata": {
            "needs_background": "light"
          },
          "output_type": "display_data"
        }
      ],
      "source": [
        "model_accuracy_history.plot()"
      ]
    },
    {
      "cell_type": "markdown",
      "metadata": {
        "id": "_6ED02qq0bMM"
      },
      "source": [
        "### max of validation accuracy"
      ]
    },
    {
      "cell_type": "code",
      "execution_count": null,
      "metadata": {
        "id": "o5QLle4U0bMM",
        "outputId": "f1e6fca6-66a5-4127-bba4-271c18beff8d"
      },
      "outputs": [
        {
          "data": {
            "text/plain": [
              "0.9599000215530396"
            ]
          },
          "execution_count": 45,
          "metadata": {},
          "output_type": "execute_result"
        }
      ],
      "source": [
        "model_accuracy_history['val_accuracy'].max()"
      ]
    },
    {
      "cell_type": "markdown",
      "metadata": {
        "id": "eZrQEa4Z0bMN"
      },
      "source": [
        "## Evaluate the model"
      ]
    },
    {
      "cell_type": "code",
      "execution_count": null,
      "metadata": {
        "id": "7kpD9HX70bMN",
        "outputId": "3d45ada5-fd59-4694-b8d7-358deed712b2"
      },
      "outputs": [
        {
          "name": "stdout",
          "output_type": "stream",
          "text": [
            "10000/10000 [==============================] - 1s 71us/sample - loss: 0.2184 - accuracy: 0.9595\n"
          ]
        },
        {
          "data": {
            "text/plain": [
              "[0.21840731651980422, 0.9595]"
            ]
          },
          "execution_count": 46,
          "metadata": {},
          "output_type": "execute_result"
        }
      ],
      "source": [
        "my_first_classifier_model.evaluate(x=test_data, y=test_labels)"
      ]
    },
    {
      "cell_type": "markdown",
      "metadata": {
        "id": "fY8VG8OA0bMO"
      },
      "source": [
        "# Create Another Model with Dropout Layer"
      ]
    },
    {
      "cell_type": "markdown",
      "metadata": {
        "id": "y1k5nqBw0bMO"
      },
      "source": [
        "## Import Dropout layer"
      ]
    },
    {
      "cell_type": "code",
      "execution_count": null,
      "metadata": {
        "id": "YyIuN9if0bMO"
      },
      "outputs": [],
      "source": [
        "from tensorflow.keras.layers import Dropout"
      ]
    },
    {
      "cell_type": "markdown",
      "metadata": {
        "id": "4R-Lduqf0bMO"
      },
      "source": [
        "## Create second model with Dropout"
      ]
    },
    {
      "cell_type": "code",
      "execution_count": null,
      "metadata": {
        "id": "ak_YNw5f0bMP"
      },
      "outputs": [],
      "source": [
        "input_layer = Input(shape=(784,))\n",
        "x = Dense(units=512, activation='relu')(input_layer)\n",
        "x = Dropout(0.3)(x)\n",
        "x = Dense(units=256, activation='relu')(x)\n",
        "x = Dropout(0.3)(x)\n",
        "x = Dense(units=128, activation='relu')(x)\n",
        "x = Dropout(0.3)(x)\n",
        "predictions = Dense(units=10, activation='softmax')(x)\n",
        "\n",
        "my_second_classifier_model = Model(inputs=input_layer, outputs=predictions)"
      ]
    },
    {
      "cell_type": "markdown",
      "metadata": {
        "id": "R2pCmaOy0bMP"
      },
      "source": [
        "### print summary of the model"
      ]
    },
    {
      "cell_type": "code",
      "execution_count": null,
      "metadata": {
        "id": "AHp6_k710bMP",
        "outputId": "041203a0-5eb0-4f41-a56d-aa8979180fc1"
      },
      "outputs": [
        {
          "name": "stdout",
          "output_type": "stream",
          "text": [
            "Model: \"model_4\"\n",
            "_________________________________________________________________\n",
            "Layer (type)                 Output Shape              Param #   \n",
            "=================================================================\n",
            "input_5 (InputLayer)         [(None, 784)]             0         \n",
            "_________________________________________________________________\n",
            "dense_16 (Dense)             (None, 512)               401920    \n",
            "_________________________________________________________________\n",
            "dropout_3 (Dropout)          (None, 512)               0         \n",
            "_________________________________________________________________\n",
            "dense_17 (Dense)             (None, 256)               131328    \n",
            "_________________________________________________________________\n",
            "dropout_4 (Dropout)          (None, 256)               0         \n",
            "_________________________________________________________________\n",
            "dense_18 (Dense)             (None, 128)               32896     \n",
            "_________________________________________________________________\n",
            "dropout_5 (Dropout)          (None, 128)               0         \n",
            "_________________________________________________________________\n",
            "dense_19 (Dense)             (None, 10)                1290      \n",
            "=================================================================\n",
            "Total params: 567,434\n",
            "Trainable params: 567,434\n",
            "Non-trainable params: 0\n",
            "_________________________________________________________________\n"
          ]
        }
      ],
      "source": [
        "my_second_classifier_model.summary()"
      ]
    },
    {
      "cell_type": "markdown",
      "metadata": {
        "id": "AbocQx4q0bMQ"
      },
      "source": [
        "## Compile the model with optimizer, loss function and accuracy metric"
      ]
    },
    {
      "cell_type": "code",
      "execution_count": null,
      "metadata": {
        "id": "AAft4Rrd0bMQ"
      },
      "outputs": [],
      "source": [
        "from tensorflow.keras.optimizers import SGD, Adam\n",
        "my_second_classifier_model.compile(optimizer=Adam(learning_rate=0.0001),\n",
        "                                   loss='categorical_crossentropy',\n",
        "                                   metrics=['accuracy'])"
      ]
    },
    {
      "cell_type": "markdown",
      "metadata": {
        "id": "vLEJqLe50bMQ"
      },
      "source": [
        "## Now we can train our model"
      ]
    },
    {
      "cell_type": "code",
      "execution_count": null,
      "metadata": {
        "id": "jQOvL6SC0bMR",
        "outputId": "b6649280-5db5-4643-e2e8-73e189443eaa"
      },
      "outputs": [
        {
          "name": "stdout",
          "output_type": "stream",
          "text": [
            "Train on 10000 samples, validate on 10000 samples\n",
            "Epoch 1/50\n",
            "10000/10000 [==============================] - 3s 310us/sample - loss: 1.4807 - accuracy: 0.5374 - val_loss: 0.5605 - val_accuracy: 0.8438\n",
            "Epoch 2/50\n",
            "10000/10000 [==============================] - 3s 271us/sample - loss: 0.6319 - accuracy: 0.8095 - val_loss: 0.3587 - val_accuracy: 0.8981\n",
            "Epoch 3/50\n",
            "10000/10000 [==============================] - 3s 270us/sample - loss: 0.4622 - accuracy: 0.8650 - val_loss: 0.2976 - val_accuracy: 0.9121\n",
            "Epoch 4/50\n",
            "10000/10000 [==============================] - 3s 276us/sample - loss: 0.3755 - accuracy: 0.8905 - val_loss: 0.2615 - val_accuracy: 0.9229\n",
            "Epoch 5/50\n",
            "10000/10000 [==============================] - 3s 290us/sample - loss: 0.3197 - accuracy: 0.9070 - val_loss: 0.2427 - val_accuracy: 0.9273\n",
            "Epoch 6/50\n",
            "10000/10000 [==============================] - 3s 263us/sample - loss: 0.2745 - accuracy: 0.9183 - val_loss: 0.2224 - val_accuracy: 0.9335\n",
            "Epoch 7/50\n",
            "10000/10000 [==============================] - 3s 260us/sample - loss: 0.2536 - accuracy: 0.9264 - val_loss: 0.2063 - val_accuracy: 0.9382\n",
            "Epoch 8/50\n",
            "10000/10000 [==============================] - 3s 306us/sample - loss: 0.2171 - accuracy: 0.9383 - val_loss: 0.1946 - val_accuracy: 0.9412\n",
            "Epoch 9/50\n",
            "10000/10000 [==============================] - 3s 264us/sample - loss: 0.2002 - accuracy: 0.9415 - val_loss: 0.1873 - val_accuracy: 0.9428\n",
            "Epoch 10/50\n",
            "10000/10000 [==============================] - 3s 274us/sample - loss: 0.1811 - accuracy: 0.9463 - val_loss: 0.1761 - val_accuracy: 0.9474\n",
            "Epoch 11/50\n",
            "10000/10000 [==============================] - 3s 297us/sample - loss: 0.1656 - accuracy: 0.9521 - val_loss: 0.1729 - val_accuracy: 0.9491\n",
            "Epoch 12/50\n",
            "10000/10000 [==============================] - 3s 256us/sample - loss: 0.1489 - accuracy: 0.9567 - val_loss: 0.1681 - val_accuracy: 0.9505\n",
            "Epoch 13/50\n",
            "10000/10000 [==============================] - 3s 269us/sample - loss: 0.1335 - accuracy: 0.9592 - val_loss: 0.1635 - val_accuracy: 0.9517\n",
            "Epoch 14/50\n",
            "10000/10000 [==============================] - 3s 256us/sample - loss: 0.1234 - accuracy: 0.9625 - val_loss: 0.1601 - val_accuracy: 0.9518\n",
            "Epoch 15/50\n",
            "10000/10000 [==============================] - 3s 260us/sample - loss: 0.1114 - accuracy: 0.9657 - val_loss: 0.1571 - val_accuracy: 0.9534\n",
            "Epoch 16/50\n",
            "10000/10000 [==============================] - 3s 267us/sample - loss: 0.1036 - accuracy: 0.9693 - val_loss: 0.1570 - val_accuracy: 0.9541\n",
            "Epoch 17/50\n",
            "10000/10000 [==============================] - 3s 268us/sample - loss: 0.0908 - accuracy: 0.9743 - val_loss: 0.1484 - val_accuracy: 0.9566\n",
            "Epoch 18/50\n",
            "10000/10000 [==============================] - 3s 260us/sample - loss: 0.0836 - accuracy: 0.9753 - val_loss: 0.1516 - val_accuracy: 0.9560\n",
            "Epoch 19/50\n",
            "10000/10000 [==============================] - 3s 278us/sample - loss: 0.0784 - accuracy: 0.9760 - val_loss: 0.1486 - val_accuracy: 0.9567\n",
            "Epoch 20/50\n",
            "10000/10000 [==============================] - 3s 287us/sample - loss: 0.0756 - accuracy: 0.9780 - val_loss: 0.1404 - val_accuracy: 0.9600\n",
            "Epoch 21/50\n",
            "10000/10000 [==============================] - 3s 265us/sample - loss: 0.0663 - accuracy: 0.9809 - val_loss: 0.1471 - val_accuracy: 0.9582\n",
            "Epoch 22/50\n",
            "10000/10000 [==============================] - 3s 261us/sample - loss: 0.0598 - accuracy: 0.9826 - val_loss: 0.1419 - val_accuracy: 0.9601\n",
            "Epoch 23/50\n",
            "10000/10000 [==============================] - 3s 256us/sample - loss: 0.0529 - accuracy: 0.9839 - val_loss: 0.1444 - val_accuracy: 0.9600\n",
            "Epoch 24/50\n",
            "10000/10000 [==============================] - 3s 279us/sample - loss: 0.0492 - accuracy: 0.9857 - val_loss: 0.1472 - val_accuracy: 0.9598\n",
            "Epoch 25/50\n",
            "10000/10000 [==============================] - 3s 282us/sample - loss: 0.0461 - accuracy: 0.9856 - val_loss: 0.1434 - val_accuracy: 0.9615\n",
            "Epoch 26/50\n",
            "10000/10000 [==============================] - 3s 254us/sample - loss: 0.0451 - accuracy: 0.9864 - val_loss: 0.1448 - val_accuracy: 0.9605\n",
            "Epoch 27/50\n",
            "10000/10000 [==============================] - 3s 257us/sample - loss: 0.0379 - accuracy: 0.9895 - val_loss: 0.1392 - val_accuracy: 0.9621\n",
            "Epoch 28/50\n",
            "10000/10000 [==============================] - 3s 255us/sample - loss: 0.0337 - accuracy: 0.9907 - val_loss: 0.1412 - val_accuracy: 0.9625\n",
            "Epoch 29/50\n",
            "10000/10000 [==============================] - 3s 266us/sample - loss: 0.0275 - accuracy: 0.9922 - val_loss: 0.1439 - val_accuracy: 0.9626\n",
            "Epoch 30/50\n",
            "10000/10000 [==============================] - 3s 256us/sample - loss: 0.0302 - accuracy: 0.9912 - val_loss: 0.1469 - val_accuracy: 0.9625\n",
            "Epoch 31/50\n",
            "10000/10000 [==============================] - 3s 255us/sample - loss: 0.0275 - accuracy: 0.9914 - val_loss: 0.1437 - val_accuracy: 0.9629\n",
            "Epoch 32/50\n",
            "10000/10000 [==============================] - 3s 268us/sample - loss: 0.0286 - accuracy: 0.9911 - val_loss: 0.1487 - val_accuracy: 0.9620\n",
            "Epoch 33/50\n",
            "10000/10000 [==============================] - 3s 283us/sample - loss: 0.0240 - accuracy: 0.9921 - val_loss: 0.1450 - val_accuracy: 0.9641\n",
            "Epoch 34/50\n",
            "10000/10000 [==============================] - 3s 308us/sample - loss: 0.0207 - accuracy: 0.9939 - val_loss: 0.1471 - val_accuracy: 0.9625\n",
            "Epoch 35/50\n",
            "10000/10000 [==============================] - 3s 268us/sample - loss: 0.0212 - accuracy: 0.9943 - val_loss: 0.1542 - val_accuracy: 0.9614\n",
            "Epoch 36/50\n",
            "10000/10000 [==============================] - 3s 278us/sample - loss: 0.0211 - accuracy: 0.9938 - val_loss: 0.1564 - val_accuracy: 0.9614\n",
            "Epoch 37/50\n",
            "10000/10000 [==============================] - 3s 295us/sample - loss: 0.0165 - accuracy: 0.9952 - val_loss: 0.1569 - val_accuracy: 0.9629\n",
            "Epoch 38/50\n",
            "10000/10000 [==============================] - 3s 273us/sample - loss: 0.0200 - accuracy: 0.9939 - val_loss: 0.1516 - val_accuracy: 0.9637\n",
            "Epoch 39/50\n",
            "10000/10000 [==============================] - 3s 302us/sample - loss: 0.0170 - accuracy: 0.9950 - val_loss: 0.1536 - val_accuracy: 0.9628\n",
            "Epoch 40/50\n",
            "10000/10000 [==============================] - 3s 295us/sample - loss: 0.0135 - accuracy: 0.9962 - val_loss: 0.1588 - val_accuracy: 0.9618\n",
            "Epoch 41/50\n",
            "10000/10000 [==============================] - 3s 261us/sample - loss: 0.0113 - accuracy: 0.9971 - val_loss: 0.1544 - val_accuracy: 0.9645\n",
            "Epoch 42/50\n",
            "10000/10000 [==============================] - 3s 258us/sample - loss: 0.0122 - accuracy: 0.9966 - val_loss: 0.1586 - val_accuracy: 0.9634\n",
            "Epoch 43/50\n",
            "10000/10000 [==============================] - 3s 309us/sample - loss: 0.0128 - accuracy: 0.9963 - val_loss: 0.1619 - val_accuracy: 0.9627\n",
            "Epoch 44/50\n",
            "10000/10000 [==============================] - 3s 284us/sample - loss: 0.0125 - accuracy: 0.9962 - val_loss: 0.1575 - val_accuracy: 0.9641\n",
            "Epoch 45/50\n",
            "10000/10000 [==============================] - 3s 288us/sample - loss: 0.0124 - accuracy: 0.9968 - val_loss: 0.1706 - val_accuracy: 0.9623\n",
            "Epoch 46/50\n",
            "10000/10000 [==============================] - 3s 255us/sample - loss: 0.0134 - accuracy: 0.9965 - val_loss: 0.1694 - val_accuracy: 0.9625\n",
            "Epoch 47/50\n",
            "10000/10000 [==============================] - 3s 254us/sample - loss: 0.0096 - accuracy: 0.9972 - val_loss: 0.1718 - val_accuracy: 0.9643\n",
            "Epoch 48/50\n",
            "10000/10000 [==============================] - 3s 252us/sample - loss: 0.0133 - accuracy: 0.9962 - val_loss: 0.1613 - val_accuracy: 0.9645\n",
            "Epoch 49/50\n",
            "10000/10000 [==============================] - 2s 250us/sample - loss: 0.0113 - accuracy: 0.9968 - val_loss: 0.1704 - val_accuracy: 0.9635\n",
            "Epoch 50/50\n",
            "10000/10000 [==============================] - 2s 248us/sample - loss: 0.0100 - accuracy: 0.9972 - val_loss: 0.1687 - val_accuracy: 0.9632\n"
          ]
        },
        {
          "data": {
            "text/plain": [
              "<tensorflow.python.keras.callbacks.History at 0x23aa7169948>"
            ]
          },
          "execution_count": 63,
          "metadata": {},
          "output_type": "execute_result"
        }
      ],
      "source": [
        "my_second_classifier_model.fit(x=train_data, y=train_labels,\n",
        "                              batch_size=32, epochs=50, shuffle=True,\n",
        "                              validation_data=(test_data, test_labels))"
      ]
    },
    {
      "cell_type": "markdown",
      "metadata": {
        "id": "EFwhSSi60bMR"
      },
      "source": [
        "### Plot model loss history"
      ]
    },
    {
      "cell_type": "code",
      "execution_count": null,
      "metadata": {
        "id": "ulYX3oDV0bMR"
      },
      "outputs": [],
      "source": [
        "model_loss_history = pd.DataFrame({'loss': my_second_classifier_model.history.history['loss'],\n",
        "                                   'val_loss': my_second_classifier_model.history.history['val_loss']})"
      ]
    },
    {
      "cell_type": "code",
      "execution_count": null,
      "metadata": {
        "id": "ECZ4pJP20bMR",
        "outputId": "00e4e9ee-40c6-419d-cf65-906ea1b72cb3"
      },
      "outputs": [
        {
          "data": {
            "text/plain": [
              "<AxesSubplot:>"
            ]
          },
          "execution_count": 65,
          "metadata": {},
          "output_type": "execute_result"
        },
        {
          "data": {
            "image/png": "[encoded data removed]",
            "text/plain": [
              "<Figure size 432x288 with 1 Axes>"
            ]
          },
          "metadata": {
            "needs_background": "light"
          },
          "output_type": "display_data"
        }
      ],
      "source": [
        "model_loss_history.plot()"
      ]
    },
    {
      "cell_type": "markdown",
      "metadata": {
        "id": "AfwbVbn10bMS"
      },
      "source": [
        "### min of model validation loss history"
      ]
    },
    {
      "cell_type": "code",
      "execution_count": null,
      "metadata": {
        "id": "8mNCR5q_0bMS",
        "outputId": "43e87666-e44f-4dac-c1d4-3f966d7017a3"
      },
      "outputs": [
        {
          "data": {
            "text/plain": [
              "0.139196775612334"
            ]
          },
          "execution_count": 66,
          "metadata": {},
          "output_type": "execute_result"
        }
      ],
      "source": [
        "model_loss_history['val_loss'].min()"
      ]
    },
    {
      "cell_type": "markdown",
      "metadata": {
        "id": "6v16J1870bMS"
      },
      "source": [
        "### plot model accuracy history"
      ]
    },
    {
      "cell_type": "code",
      "execution_count": null,
      "metadata": {
        "id": "hKbMxwr10bMS"
      },
      "outputs": [],
      "source": [
        "model_accuracy_history = pd.DataFrame({'accuracy': my_second_classifier_model.history.history['accuracy'],\n",
        "                                       'val_accuracy': my_second_classifier_model.history.history['val_accuracy']})"
      ]
    },
    {
      "cell_type": "code",
      "execution_count": null,
      "metadata": {
        "id": "NsAYOrB70bMT",
        "outputId": "aa936459-424c-4257-9600-1f36b1eb666b"
      },
      "outputs": [
        {
          "data": {
            "text/plain": [
              "<AxesSubplot:>"
            ]
          },
          "execution_count": 68,
          "metadata": {},
          "output_type": "execute_result"
        },
        {
          "data": {
            "image/png": "[encoded data removed]",
            "text/plain": [
              "<Figure size 432x288 with 1 Axes>"
            ]
          },
          "metadata": {
            "needs_background": "light"
          },
          "output_type": "display_data"
        }
      ],
      "source": [
        "model_accuracy_history.plot()"
      ]
    },
    {
      "cell_type": "markdown",
      "metadata": {
        "id": "cAn7gZCH0bMT"
      },
      "source": [
        "### max of model validation accuracy"
      ]
    },
    {
      "cell_type": "code",
      "execution_count": null,
      "metadata": {
        "id": "VdoejB0G0bMT",
        "outputId": "5c5c6387-c3a6-4ec4-a6e5-6742fc137889"
      },
      "outputs": [
        {
          "data": {
            "text/plain": [
              "0.9645000100135803"
            ]
          },
          "execution_count": 69,
          "metadata": {},
          "output_type": "execute_result"
        }
      ],
      "source": [
        "model_accuracy_history['val_accuracy'].max()"
      ]
    },
    {
      "cell_type": "markdown",
      "metadata": {
        "id": "eU1B8Zf80bMT"
      },
      "source": [
        "## Evaluate the model"
      ]
    },
    {
      "cell_type": "code",
      "execution_count": null,
      "metadata": {
        "id": "E57P-9eo0bMT",
        "outputId": "43090e21-afc9-47fc-c287-f9131975da21"
      },
      "outputs": [
        {
          "name": "stdout",
          "output_type": "stream",
          "text": [
            "10000/10000 [==============================] - 1s 72us/sample - loss: 0.1687 - accuracy: 0.9632\n"
          ]
        },
        {
          "data": {
            "text/plain": [
              "[0.16870401106315439, 0.9632]"
            ]
          },
          "execution_count": 70,
          "metadata": {},
          "output_type": "execute_result"
        }
      ],
      "source": [
        "my_second_classifier_model.evaluate(x=test_data, y=test_labels)"
      ]
    },
    {
      "cell_type": "code",
      "execution_count": null,
      "metadata": {
        "id": "dl9G1NVk0bMU"
      },
      "outputs": [],
      "source": [
        ""
      ]
    }
  ],
  "metadata": {
    "kernelspec": {
      "display_name": "Python 3",
      "language": "python",
      "name": "python3"
    },
    "language_info": {
      "codemirror_mode": {
        "name": "ipython",
        "version": 3
      },
      "file_extension": ".py",
      "mimetype": "text/x-python",
      "name": "python",
      "nbconvert_exporter": "python",
      "pygments_lexer": "ipython3",
      "version": "3.7.9"
    },
    "colab": {
      "name": "classification_example.ipynb",
      "provenance": [],
      "include_colab_link": true
    }
  },
  "nbformat": 4,
  "nbformat_minor": 0
}
